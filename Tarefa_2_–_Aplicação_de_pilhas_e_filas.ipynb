{
  "nbformat": 4,
  "nbformat_minor": 0,
  "metadata": {
    "colab": {
      "provenance": []
    },
    "kernelspec": {
      "name": "python3",
      "display_name": "Python 3"
    },
    "language_info": {
      "name": "python"
    }
  },
  "cells": [
    {
      "cell_type": "markdown",
      "source": [
        "NOME: RAPHAEL HENRIQUE GARDIN COSTA RA:23.00785-0\n",
        "NOME:Joao Felipe Mendes Jordao RA:23.01473-3"
      ],
      "metadata": {
        "id": "ONf2uEOwEZUS"
      }
    },
    {
      "cell_type": "markdown",
      "source": [],
      "metadata": {
        "id": "MGbT8D2NC7t3"
      }
    },
    {
      "cell_type": "markdown",
      "source": [
        "Exercício 1: Impressora com Fila de Impressão (FIFO)"
      ],
      "metadata": {
        "id": "qsJr9FrqCpVj"
      }
    },
    {
      "cell_type": "code",
      "execution_count": null,
      "metadata": {
        "colab": {
          "base_uri": "https://localhost:8080/"
        },
        "id": "Pb8GTHHcBxt2",
        "outputId": "d320c7bb-5490-4f0a-ee75-a998faebc35b"
      },
      "outputs": [
        {
          "output_type": "stream",
          "name": "stdout",
          "text": [
            "Documento 'relatorio.pdf' adicionado à fila de impressão.\n",
            "Documento 'apresentacao.pptx' adicionado à fila de impressão.\n",
            "Documento 'contrato.doc' adicionado à fila de impressão.\n",
            "Fila de impressão cheia! Não foi possível adicionar o documento.\n",
            "Documento encontrado na posição 2 da fila.\n",
            "Arquivo: apresentacao.pptx, Usuário: Maria, Solicitado em: 2025-05-31 20:33:32.780556\n",
            "\n",
            "=== Relatório da Fila de Impressão ===\n",
            "Documentos na fila: 3/3\n",
            "1. Arquivo: relatorio.pdf, Usuário: João, Solicitado em: 2025-05-31 20:33:32.780499\n",
            "2. Arquivo: apresentacao.pptx, Usuário: Maria, Solicitado em: 2025-05-31 20:33:32.780556\n",
            "3. Arquivo: contrato.doc, Usuário: Carlos, Solicitado em: 2025-05-31 20:33:32.780564\n",
            "Imprimindo: relatorio.pdf\n",
            "Tempo de espera: 0.00 segundos\n",
            "Imprimindo: apresentacao.pptx\n",
            "Tempo de espera: 0.00 segundos\n",
            "\n",
            "=== Relatório de Documentos Impressos ===\n",
            "Arquivo: relatorio.pdf, Usuário: João, Solicitado em: 2025-05-31 20:33:32.780499 | Impresso em: 2025-05-31 20:33:32.780648 | Tempo de espera: 0.00s\n",
            "Arquivo: apresentacao.pptx, Usuário: Maria, Solicitado em: 2025-05-31 20:33:32.780556 | Impresso em: 2025-05-31 20:33:32.780664 | Tempo de espera: 0.00s\n"
          ]
        }
      ],
      "source": [
        "from datetime import datetime\n",
        "from collections import deque\n",
        "\n",
        "class Documento:\n",
        "    def __init__(self, nome_arquivo, usuario):\n",
        "        self.nome_arquivo = nome_arquivo\n",
        "        self.usuario = usuario\n",
        "        self.horario_solicitacao = datetime.now()\n",
        "        self.horario_impressao = None\n",
        "\n",
        "    def calcular_tempo_espera(self):\n",
        "        if self.horario_impressao:\n",
        "            return (self.horario_impressao - self.horario_solicitacao).total_seconds()\n",
        "        return None\n",
        "\n",
        "    def __str__(self):\n",
        "        return f\"Arquivo: {self.nome_arquivo}, Usuário: {self.usuario}, Solicitado em: {self.horario_solicitacao}\"\n",
        "\n",
        "class FilaImpressao:\n",
        "    def __init__(self, capacidade=10):\n",
        "        self.fila = deque()\n",
        "        self.capacidade = capacidade\n",
        "        self.documentos_impressos = []\n",
        "\n",
        "    def adicionar_documento(self, nome_arquivo, usuario):\n",
        "        if len(self.fila) >= self.capacidade:\n",
        "            print(\"Fila de impressão cheia! Não foi possível adicionar o documento.\")\n",
        "            return False\n",
        "\n",
        "        documento = Documento(nome_arquivo, usuario)\n",
        "        self.fila.append(documento)\n",
        "        print(f\"Documento '{nome_arquivo}' adicionado à fila de impressão.\")\n",
        "        return True\n",
        "\n",
        "    def imprimir_documento(self):\n",
        "        if not self.fila:\n",
        "            print(\"Não há documentos na fila de impressão.\")\n",
        "            return None\n",
        "\n",
        "        documento = self.fila.popleft()\n",
        "        documento.horario_impressao = datetime.now()\n",
        "        self.documentos_impressos.append(documento)\n",
        "\n",
        "        tempo_espera = documento.calcular_tempo_espera()\n",
        "        print(f\"Imprimindo: {documento.nome_arquivo}\")\n",
        "        print(f\"Tempo de espera: {tempo_espera:.2f} segundos\")\n",
        "        return documento\n",
        "\n",
        "    def consultar_documento(self, nome_arquivo):\n",
        "        for i, doc in enumerate(self.fila, 1):\n",
        "            if doc.nome_arquivo == nome_arquivo:\n",
        "                print(f\"Documento encontrado na posição {i} da fila.\")\n",
        "                print(doc)\n",
        "                return i\n",
        "        print(\"Documento não encontrado na fila de impressão.\")\n",
        "        return -1\n",
        "\n",
        "    def relatorio_fila(self):\n",
        "        print(\"\\n=== Relatório da Fila de Impressão ===\")\n",
        "        print(f\"Documentos na fila: {len(self.fila)}/{self.capacidade}\")\n",
        "        for i, doc in enumerate(self.fila, 1):\n",
        "            print(f\"{i}. {doc}\")\n",
        "\n",
        "    def relatorio_impressoes(self):\n",
        "        print(\"\\n=== Relatório de Documentos Impressos ===\")\n",
        "        for doc in self.documentos_impressos:\n",
        "            tempo = doc.calcular_tempo_espera()\n",
        "            print(f\"{doc} | Impresso em: {doc.horario_impressao} | Tempo de espera: {tempo:.2f}s\")\n",
        "\n",
        "\n",
        "if __name__ == \"__main__\":\n",
        "    fila = FilaImpressao(capacidade=3)\n",
        "\n",
        "    fila.adicionar_documento(\"relatorio.pdf\", \"João\")\n",
        "    fila.adicionar_documento(\"apresentacao.pptx\", \"Maria\")\n",
        "    fila.adicionar_documento(\"contrato.doc\", \"Carlos\")\n",
        "    fila.adicionar_documento(\"extra.txt\", \"Ana\")\n",
        "\n",
        "    fila.consultar_documento(\"apresentacao.pptx\")\n",
        "    fila.relatorio_fila()\n",
        "\n",
        "    fila.imprimir_documento()\n",
        "    fila.imprimir_documento()\n",
        "\n",
        "    fila.relatorio_impressoes()"
      ]
    },
    {
      "cell_type": "markdown",
      "source": [
        "Exercício 2: Pilha de Reimpressão Emergencial (LIFO)"
      ],
      "metadata": {
        "id": "qXBkSZIrCuxq"
      }
    },
    {
      "cell_type": "code",
      "source": [
        "from datetime import datetime\n",
        "\n",
        "class DocumentoReimpressao:\n",
        "    def __init__(self, nome_arquivo, usuario):\n",
        "        self.nome_arquivo = nome_arquivo\n",
        "        self.usuario = usuario\n",
        "        self.horario_solicitacao = datetime.now()\n",
        "        self.horario_reimpressao = None\n",
        "\n",
        "    def calcular_tempo_espera(self):\n",
        "        if self.horario_reimpressao:\n",
        "            return (self.horario_reimpressao - self.horario_solicitacao).total_seconds()\n",
        "        return None\n",
        "\n",
        "    def __str__(self):\n",
        "        return f\"Arquivo: {self.nome_arquivo}, Usuário: {self.usuario}, Solicitado em: {self.horario_solicitacao}\"\n",
        "\n",
        "class PilhaReimpressao:\n",
        "    def __init__(self, capacidade=5):\n",
        "        self.pilha = []\n",
        "        self.capacidade = capacidade\n",
        "        self.documentos_reimpressos = []\n",
        "\n",
        "    def solicitar_reimpressao(self, nome_arquivo, usuario):\n",
        "        if len(self.pilha) >= self.capacidade:\n",
        "            print(\"Pilha de reimpressão cheia! Não foi possível adicionar o documento.\")\n",
        "            return False\n",
        "\n",
        "        documento = DocumentoReimpressao(nome_arquivo, usuario)\n",
        "        self.pilha.append(documento)\n",
        "        print(f\"Documento '{nome_arquivo}' adicionado à pilha de reimpressão.\")\n",
        "        return True\n",
        "\n",
        "    def reimprimir_documento(self):\n",
        "        if not self.pilha:\n",
        "            print(\"Não há documentos na pilha de reimpressão.\")\n",
        "            return None\n",
        "\n",
        "        documento = self.pilha.pop()\n",
        "        documento.horario_reimpressao = datetime.now()\n",
        "        self.documentos_reimpressos.append(documento)\n",
        "\n",
        "        tempo_espera = documento.calcular_tempo_espera()\n",
        "        print(f\"Reimprimindo: {documento.nome_arquivo}\")\n",
        "        print(f\"Tempo desde a solicitação: {tempo_espera:.2f} segundos\")\n",
        "        return documento\n",
        "\n",
        "    def consultar_documento(self, nome_arquivo):\n",
        "        for i, doc in enumerate(reversed(self.pilha), 1):\n",
        "            if doc.nome_arquivo == nome_arquivo:\n",
        "                print(f\"Documento encontrado na posição {i} a partir do topo da pilha.\")\n",
        "                print(doc)\n",
        "                return i\n",
        "        print(\"Documento não encontrado na pilha de reimpressão.\")\n",
        "        return -1\n",
        "\n",
        "    def relatorio_pilha(self):\n",
        "        print(\"\\n=== Relatório da Pilha de Reimpressão ===\")\n",
        "        print(f\"Documentos na pilha: {len(self.pilha)}/{self.capacidade}\")\n",
        "        for i, doc in enumerate(reversed(self.pilha), 1):\n",
        "            print(f\"{i}. {doc}\")\n",
        "\n",
        "    def relatorio_reimpressoes(self):\n",
        "        print(\"\\n=== Relatório de Documentos Reimpressos ===\")\n",
        "        for doc in self.documentos_reimpressos:\n",
        "            tempo = doc.calcular_tempo_espera()\n",
        "            print(f\"{doc} | Reimpresso em: {doc.horario_reimpressao} | Tempo de espera: {tempo:.2f}s\")\n",
        "\n",
        "\n",
        "if __name__ == \"__main__\":\n",
        "    pilha = PilhaReimpressao(capacidade=2)\n",
        "\n",
        "    pilha.solicitar_reimpressao(\"relatorio.pdf\", \"João\")\n",
        "    pilha.solicitar_reimpressao(\"contrato.doc\", \"Carlos\")\n",
        "    pilha.solicitar_reimpressao(\"extra.txt\", \"Ana\")\n",
        "    pilha.consultar_documento(\"relatorio.pdf\")\n",
        "    pilha.relatorio_pilha()\n",
        "\n",
        "    pilha.reimprimir_documento()\n",
        "    pilha.reimprimir_documento()\n",
        "\n",
        "    pilha.relatorio_reimpressoes()"
      ],
      "metadata": {
        "colab": {
          "base_uri": "https://localhost:8080/"
        },
        "id": "FUYmuy78Cw-K",
        "outputId": "3a87b2ba-a9e3-4d00-b6c4-4e04f6e12e2f"
      },
      "execution_count": null,
      "outputs": [
        {
          "output_type": "stream",
          "name": "stdout",
          "text": [
            "Documento 'relatorio.pdf' adicionado à pilha de reimpressão.\n",
            "Documento 'contrato.doc' adicionado à pilha de reimpressão.\n",
            "Pilha de reimpressão cheia! Não foi possível adicionar o documento.\n",
            "Documento encontrado na posição 2 a partir do topo da pilha.\n",
            "Arquivo: relatorio.pdf, Usuário: João, Solicitado em: 2025-05-31 20:33:38.092930\n",
            "\n",
            "=== Relatório da Pilha de Reimpressão ===\n",
            "Documentos na pilha: 2/2\n",
            "1. Arquivo: contrato.doc, Usuário: Carlos, Solicitado em: 2025-05-31 20:33:38.092984\n",
            "2. Arquivo: relatorio.pdf, Usuário: João, Solicitado em: 2025-05-31 20:33:38.092930\n",
            "Reimprimindo: contrato.doc\n",
            "Tempo desde a solicitação: 0.00 segundos\n",
            "Reimprimindo: relatorio.pdf\n",
            "Tempo desde a solicitação: 0.00 segundos\n",
            "\n",
            "=== Relatório de Documentos Reimpressos ===\n",
            "Arquivo: contrato.doc, Usuário: Carlos, Solicitado em: 2025-05-31 20:33:38.092984 | Reimpresso em: 2025-05-31 20:33:38.093033 | Tempo de espera: 0.00s\n",
            "Arquivo: relatorio.pdf, Usuário: João, Solicitado em: 2025-05-31 20:33:38.092930 | Reimpresso em: 2025-05-31 20:33:38.093047 | Tempo de espera: 0.00s\n"
          ]
        }
      ]
    },
    {
      "cell_type": "markdown",
      "source": [],
      "metadata": {
        "id": "JWTUtiTkC53z"
      }
    }
  ]
}